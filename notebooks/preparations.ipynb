{
 "cells": [
  {
   "cell_type": "markdown",
   "metadata": {},
   "source": [
    "# Generate necessary folder structure and download everything"
   ]
  },
  {
   "cell_type": "code",
   "execution_count": null,
   "metadata": {},
   "outputs": [],
   "source": [
    "import os\n",
    "import requests\n",
    "from bs4 import BeautifulSoup\n",
    "\n",
    "# Ziel-URL von Kaggle\n",
    "URL = \"https://www.kaggle.com/datasets/tawsifurrahman/covid19-radiography-database/data\"\n",
    "DOWNLOAD_FOLDER = \"COVID-19_Radiography_Dataset\"\n",
    "\n",
    "def create_folder(folder):\n",
    "    \"\"\"Erstellt den Zielordner, falls er nicht existiert.\"\"\"\n",
    "    if not os.path.exists(folder):\n",
    "        os.makedirs(folder)\n",
    "\n",
    "def get_image_urls(url):\n",
    "    \"\"\"Scrapt die Seite und extrahiert alle Bild-URLs.\"\"\"\n",
    "    headers = {\"User-Agent\": \"Mozilla/5.0\"}\n",
    "    response = requests.get(url, headers=headers)\n",
    "\n",
    "    if response.status_code != 200:\n",
    "        print(\"Fehler beim Abrufen der Webseite\")\n",
    "        return []\n",
    "\n",
    "    soup = BeautifulSoup(response.text, \"html.parser\")\n",
    "    image_urls = []\n",
    "\n",
    "    # Suche nach div-Containern mit Bildern\n",
    "    for div in soup.find_all(\"div\", class_=\"sc-jXGfdH ka-dkW\"):\n",
    "        img_tag = div.find(\"img\")\n",
    "        if img_tag and \"src\" in img_tag.attrs:\n",
    "            image_urls.append(img_tag[\"src\"])\n",
    "\n",
    "    return image_urls\n",
    "\n",
    "def download_images(image_urls, folder):\n",
    "    \"\"\"Lädt Bilder herunter und speichert sie in einem Ordner.\"\"\"\n",
    "    for url in image_urls:\n",
    "        filename = os.path.join(folder, url.split(\"/\")[-1].split(\"?\")[0])\n",
    "\n",
    "        if os.path.exists(filename):\n",
    "            print(f\"Bild existiert bereits: {filename}\")\n",
    "            continue\n",
    "\n",
    "        print(f\"Lade herunter: {filename}\")\n",
    "        response = requests.get(url, stream=True)\n",
    "\n",
    "        if response.status_code == 200:\n",
    "            with open(filename, \"wb\") as f:\n",
    "                for chunk in response.iter_content(1024):\n",
    "                    f.write(chunk)\n",
    "        else:\n",
    "            print(f\"Fehler beim Herunterladen: {url}\")\n",
    "\n",
    "# Hauptablauf\n",
    "create_folder(DOWNLOAD_FOLDER)\n",
    "image_urls = get_image_urls(URL)\n",
    "download_images(image_urls, DOWNLOAD_FOLDER)\n",
    "\n",
    "print(\"Fertig!\")"
   ]
  }
 ],
 "metadata": {
  "kernelspec": {
   "display_name": "Covid-19_detection-Vq8eCjj_",
   "language": "python",
   "name": "python3"
  },
  "language_info": {
   "codemirror_mode": {
    "name": "ipython",
    "version": 3
   },
   "file_extension": ".py",
   "mimetype": "text/x-python",
   "name": "python",
   "nbconvert_exporter": "python",
   "pygments_lexer": "ipython3",
   "version": "3.12.3"
  }
 },
 "nbformat": 4,
 "nbformat_minor": 2
}
