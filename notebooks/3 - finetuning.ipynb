{
 "cells": [
  {
   "cell_type": "markdown",
   "metadata": {},
   "source": [
    "The evaluation of VGG16 and DenseNet121 didn't bring great prediction quality.\n",
    "We were trying to optimize the prediction with these approaches so far:\n",
    "\n",
    "- reduce the classes to just normal and covid (take out the pneumonia and lung-opacity), which helped already\n",
    "- apply a sigmoid activation in the last layer and try to set a threshold the way, that recall get's optimized, which didn't really help\n",
    "- since normal/covid classes are unbalanced insert a RandomOverSampler(sampling_strategy='majority') at the beginning of the model, helped\n",
    "\n",
    "Next, we could extend the fine tuning, be letting the CNN learn (try with last 5 layers) and apply a smaller learning rate:"
   ]
  },
  {
   "cell_type": "code",
   "execution_count": null,
   "metadata": {},
   "outputs": [],
   "source": [
    "# Example of letting parts of the base model learn as well\n",
    "for layer in base_model.layers[-5:]:\n",
    "    layer.trainalbe = True\n",
    "\n",
    "model.compile(optimizer=Adam(learning_rate=0.00001), lost=\"binary_crossentropy\", metrics=['accuracy'])"
   ]
  }
 ],
 "metadata": {
  "language_info": {
   "name": "python"
  }
 },
 "nbformat": 4,
 "nbformat_minor": 2
}
