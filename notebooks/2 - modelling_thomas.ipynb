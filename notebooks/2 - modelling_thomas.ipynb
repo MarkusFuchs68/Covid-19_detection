{
 "cells": [
  {
   "cell_type": "code",
   "execution_count": 1,
   "metadata": {
    "id": "mpU_VcgZohlO",
    "outputId": "12cbaae9-6dd4-4ca9-9d7b-e012efbda26c"
   },
   "outputs": [],
   "source": [
    "# Libraries\n",
    "import pandas as pd\n",
    "import numpy as np\n",
    "\n",
    "# Imports for model building\n",
    "import tensorflow as tf\n",
    "from tensorflow.keras.models import Model\n",
    "from tensorflow.keras.layers import Input\n",
    "from tensorflow.keras.layers import Dense\n",
    "from tensorflow.keras.layers import GlobalAveragePooling2D\n",
    "from tensorflow.keras.layers import Dropout\n",
    "\n",
    "# Imports for image transformations\n",
    "from tensorflow.keras.layers import RandomFlip\n",
    "from tensorflow.keras.layers import RandomZoom\n",
    "from tensorflow.keras.layers import RandomRotation\n",
    "from tensorflow.keras.layers import RandomTranslation\n",
    "\n",
    "# Callbacks\n",
    "from tensorflow.keras.callbacks import EarlyStopping\n",
    "from tensorflow.keras.callbacks import ReduceLROnPlateau\n",
    "\n",
    "# Importing Keras utility for image dataset loading\n",
    "from keras.utils import image_dataset_from_directory\n",
    "\n",
    "# Reporting\n",
    "from sklearn.metrics import classification_report\n",
    "from sklearn.metrics import confusion_matrix\n",
    "#!pip install imbalanced-learn\n",
    "from imblearn.metrics import classification_report_imbalanced\n",
    "\n",
    "# Imports for visualizations\n",
    "import matplotlib.pyplot as plt\n",
    "import seaborn as sns\n",
    "%matplotlib inline"
   ]
  },
  {
   "cell_type": "code",
   "execution_count": 2,
   "metadata": {
    "id": "RfxBOXCqohlT"
   },
   "outputs": [],
   "source": [
    "# Variables\n",
    "dataset_folder = r'C:\\Users\\Thoma\\Downloads\\Python\\dataset' # We stored the masked files in this dataset folder\n",
    "class_normal = 'normal'\n",
    "class_lung_opacity = 'lung_opacity'\n",
    "class_viral_pneumonia = 'viral_pneumonia'\n",
    "class_covid = 'covid'"
   ]
  },
  {
   "cell_type": "markdown",
   "metadata": {
    "id": "bVtJ4njrohlU"
   },
   "source": [
    "### First try with Transfer Learning"
   ]
  },
  {
   "cell_type": "markdown",
   "metadata": {
    "id": "qHV5u_4yohlW"
   },
   "source": [
    "##### Dataset loading and preprocessing"
   ]
  },
  {
   "cell_type": "code",
   "execution_count": 3,
   "metadata": {
    "id": "38Z4w6iRohlW",
    "outputId": "2e00b660-35a9-4603-df63-3f7e084eebcb"
   },
   "outputs": [
    {
     "name": "stdout",
     "output_type": "stream",
     "text": [
      "Found 13808 files belonging to 2 classes.\n",
      "Using 11047 files for training.\n",
      "Found 13808 files belonging to 2 classes.\n",
      "Using 2761 files for validation.\n",
      "['normal', 'covid']\n"
     ]
    }
   ],
   "source": [
    "# For testing purposes, we try not loading all classes\n",
    "normal_covid_classes = [class_normal, class_covid]\n",
    "batch_size = 16 # Rather small for fine grained learning rate\n",
    "\n",
    "# First load the whole dataset with implicit resizing for VGG16\n",
    "train_ds = image_dataset_from_directory(\n",
    "    dataset_folder,\n",
    "    class_names = normal_covid_classes,\n",
    "    validation_split=0.2,       # Fraction of the data used for validation\n",
    "    subset=\"training\",          # Load the training data\n",
    "    seed=42,                    # Seed for data splitting\n",
    "    batch_size=batch_size,\n",
    "    image_size=(224,224)        # Resize for compatibility with VGG16\n",
    ")\n",
    "\n",
    "val_ds = image_dataset_from_directory(\n",
    "    dataset_folder,\n",
    "    class_names = normal_covid_classes,\n",
    "    validation_split=0.2,       # Fraction of the data used for validation\n",
    "    subset=\"validation\",        # Load the validation data\n",
    "    seed=42,\n",
    "    batch_size=batch_size,\n",
    "    image_size=(224,224)        # automatic resizing to the CNN input shape\n",
    ")\n",
    "\n",
    "# Check, which class names found (should be our 4 (or less for trials)) and save it for later use\n",
    "class_names = train_ds.class_names.copy()\n",
    "print(class_names)\n",
    "\n",
    "# Adding optimization: caching and preloading\n",
    "# This caused some errors, when only part of it is read, maybe switch it off\n",
    "#train_ds = train_ds.cache().prefetch(buffer_size=tf.data.AUTOTUNE)\n",
    "#val_ds = val_ds.cache().prefetch(buffer_size=tf.data.AUTOTUNE)"
   ]
  },
  {
   "cell_type": "code",
   "execution_count": 4,
   "metadata": {
    "id": "46rH5IxjohlX",
    "outputId": "0c97f939-1456-48b1-9376-19d17886d566"
   },
   "outputs": [
    {
     "name": "stdout",
     "output_type": "stream",
     "text": [
      "Number of batch in train_ds: 691\n",
      "Number of batch in val_ds: 173\n",
      "(16, 224, 224, 3)\n"
     ]
    }
   ],
   "source": [
    "# Number of batches in the training dataset\n",
    "print(\"Number of batch in train_ds:\", train_ds.cardinality().numpy())\n",
    "\n",
    "# Number of batches in the validation dataset\n",
    "print(\"Number of batch in val_ds:\", val_ds.cardinality().numpy())\n",
    "\n",
    "# Let's check compatible input format for VGG16\n",
    "for image, _ in train_ds.take(1):\n",
    "    print(image.shape)\n",
    "    break"
   ]
  },
  {
   "cell_type": "code",
   "execution_count": 5,
   "metadata": {
    "id": "DqAgifA1ohlX",
    "outputId": "a9106255-7c9e-4d19-d495-d909f64a0808"
   },
   "outputs": [
    {
     "name": "stdout",
     "output_type": "stream",
     "text": [
      "Class Counts: {'normal': 8184, 'covid': 2863}\n",
      "Class Weights: {np.int32(0): 0.6749144672531769, np.int32(1): 1.9292699965071602}\n"
     ]
    }
   ],
   "source": [
    "# We have imbalanced data, hence let's calculate class_weights to give it the model\n",
    "from collections import Counter\n",
    "\n",
    "# Count occurrences of each class\n",
    "class_counts = Counter()\n",
    "total_count = 0\n",
    "for images, labels in train_ds:\n",
    "    for label in labels.numpy():  # Convert tensor to numpy\n",
    "        class_counts[label] += 1\n",
    "        total_count += 1\n",
    "\n",
    "# Convert label indices to class names\n",
    "class_counts_named = {class_names[idx]: count for idx, count in class_counts.items()}\n",
    "print(\"Class Counts:\", class_counts_named)\n",
    "\n",
    "class_weights_dict = { class_label: total_count / (len(class_counts) * class_counts[class_label])\n",
    "                 for class_label, class_count in class_counts.items() }\n",
    "print('Class Weights:', class_weights_dict)\n"
   ]
  },
  {
   "cell_type": "code",
   "execution_count": 6,
   "metadata": {
    "id": "lPbZnatPohlY"
   },
   "outputs": [],
   "source": [
    "# Preprocessing for pretrained models in the same way\n",
    "# the preprocessor comes with the pretrained model library\n",
    "from tensorflow.keras.applications.vgg16 import preprocess_input\n",
    "\n",
    "train_ds = train_ds.map(lambda x, y: (preprocess_input(x), y))\n",
    "val_ds = val_ds.map(lambda x, y: (preprocess_input(x), y))"
   ]
  },
  {
   "cell_type": "markdown",
   "metadata": {
    "id": "lttYj2DSohlY"
   },
   "source": [
    "#### Try with VGG16 (imagenet pretrained)"
   ]
  },
  {
   "cell_type": "code",
   "execution_count": 17,
   "metadata": {
    "id": "4WkuzMO4ohlY",
    "outputId": "02425d34-729b-4eda-e1cd-7767f7eb944c"
   },
   "outputs": [],
   "source": [
    "# Imports for using a pre-trained model\n",
    "from tensorflow.keras.applications.vgg16 import VGG16\n",
    "\n",
    "# VGG16 model\n",
    "base_model = VGG16(weights='imagenet', include_top=False)\n",
    "\n",
    "# Freeze the layers of VGG16\n",
    "base_model.trainable = False\n",
    "\n",
    "# Model creation using the Functional API\n",
    "inputs = Input(shape=(224, 224, 3))\n",
    "\n",
    "# Apply augmentations\n",
    "#x = RandomRotation(0.1)(inputs)\n",
    "#x = RandomTranslation(height_factor=0.1, width_factor=0.1)(x)\n",
    "#x = RandomZoom(0.1)(x)\n",
    "#x = RandomFlip(\"horizontal\")(x)\n",
    "\n",
    "# Build the model\n",
    "x = base_model(inputs)\n",
    "x = GlobalAveragePooling2D()(x)\n",
    "x = Dense(1024, activation='relu')(x)\n",
    "x = Dropout(rate=0.2)(x)\n",
    "x = Dense(512, activation='relu')(x)\n",
    "x = Dropout(rate=0.2)(x)\n",
    "outputs = Dense(len(class_names), activation='softmax')(x)\n",
    "\n",
    "vgg16 = Model(inputs=inputs, outputs=outputs)"
   ]
  },
  {
   "cell_type": "code",
   "execution_count": 18,
   "metadata": {
    "id": "6IuXyMMOohlZ"
   },
   "outputs": [],
   "source": [
    "# Applied Callbacks\n",
    "early_stopping = EarlyStopping(\n",
    "                                patience=3, # Wait for 5 epochs before applying\n",
    "                                min_delta=0.01, # If the loss function doesn't change by 1% after 3 epochs, either up or down, we stop\n",
    "                                verbose=1, # Display the epoch at which training stops\n",
    "                                mode='min',\n",
    "                                monitor='val_loss')\n",
    "\n",
    "# A learning rate reduction callback to reduce the learning rate when the validation loss stagnates\n",
    "reduce_learning_rate = ReduceLROnPlateau(\n",
    "                                    monitor=\"val_loss\",\n",
    "                                    patience=3, # If val_loss stagnates for 3 consecutive epochs based on the min_delta value\n",
    "                                    min_delta=0.01,\n",
    "                                    factor=0.1,  # Reduce the learning rate by a factor of 0.1\n",
    "                                    cooldown=3,  # Wait 3 epochs before retrying\n",
    "                                    verbose=1)"
   ]
  },
  {
   "cell_type": "code",
   "execution_count": 19,
   "metadata": {
    "id": "Ihe21CvtohlZ",
    "outputId": "a97fe23e-77d9-46ab-de78-b414a6e854d6"
   },
   "outputs": [
    {
     "data": {
      "text/html": [
       "<pre style=\"white-space:pre;overflow-x:auto;line-height:normal;font-family:Menlo,'DejaVu Sans Mono',consolas,'Courier New',monospace\"><span style=\"font-weight: bold\">Model: \"functional_1\"</span>\n",
       "</pre>\n"
      ],
      "text/plain": [
       "\u001b[1mModel: \"functional_1\"\u001b[0m\n"
      ]
     },
     "metadata": {},
     "output_type": "display_data"
    },
    {
     "data": {
      "text/html": [
       "<pre style=\"white-space:pre;overflow-x:auto;line-height:normal;font-family:Menlo,'DejaVu Sans Mono',consolas,'Courier New',monospace\">┏━━━━━━━━━━━━━━━━━━━━━━━━━━━━━━━━━┳━━━━━━━━━━━━━━━━━━━━━━━━┳━━━━━━━━━━━━━━━┓\n",
       "┃<span style=\"font-weight: bold\"> Layer (type)                    </span>┃<span style=\"font-weight: bold\"> Output Shape           </span>┃<span style=\"font-weight: bold\">       Param # </span>┃\n",
       "┡━━━━━━━━━━━━━━━━━━━━━━━━━━━━━━━━━╇━━━━━━━━━━━━━━━━━━━━━━━━╇━━━━━━━━━━━━━━━┩\n",
       "│ input_layer_3 (<span style=\"color: #0087ff; text-decoration-color: #0087ff\">InputLayer</span>)      │ (<span style=\"color: #00d7ff; text-decoration-color: #00d7ff\">None</span>, <span style=\"color: #00af00; text-decoration-color: #00af00\">224</span>, <span style=\"color: #00af00; text-decoration-color: #00af00\">224</span>, <span style=\"color: #00af00; text-decoration-color: #00af00\">3</span>)    │             <span style=\"color: #00af00; text-decoration-color: #00af00\">0</span> │\n",
       "├─────────────────────────────────┼────────────────────────┼───────────────┤\n",
       "│ vgg16 (<span style=\"color: #0087ff; text-decoration-color: #0087ff\">Functional</span>)              │ (<span style=\"color: #00d7ff; text-decoration-color: #00d7ff\">None</span>, <span style=\"color: #00af00; text-decoration-color: #00af00\">7</span>, <span style=\"color: #00af00; text-decoration-color: #00af00\">7</span>, <span style=\"color: #00af00; text-decoration-color: #00af00\">512</span>)      │    <span style=\"color: #00af00; text-decoration-color: #00af00\">14,714,688</span> │\n",
       "├─────────────────────────────────┼────────────────────────┼───────────────┤\n",
       "│ global_average_pooling2d_1      │ (<span style=\"color: #00d7ff; text-decoration-color: #00d7ff\">None</span>, <span style=\"color: #00af00; text-decoration-color: #00af00\">512</span>)            │             <span style=\"color: #00af00; text-decoration-color: #00af00\">0</span> │\n",
       "│ (<span style=\"color: #0087ff; text-decoration-color: #0087ff\">GlobalAveragePooling2D</span>)        │                        │               │\n",
       "├─────────────────────────────────┼────────────────────────┼───────────────┤\n",
       "│ dense_3 (<span style=\"color: #0087ff; text-decoration-color: #0087ff\">Dense</span>)                 │ (<span style=\"color: #00d7ff; text-decoration-color: #00d7ff\">None</span>, <span style=\"color: #00af00; text-decoration-color: #00af00\">1024</span>)           │       <span style=\"color: #00af00; text-decoration-color: #00af00\">525,312</span> │\n",
       "├─────────────────────────────────┼────────────────────────┼───────────────┤\n",
       "│ dropout_2 (<span style=\"color: #0087ff; text-decoration-color: #0087ff\">Dropout</span>)             │ (<span style=\"color: #00d7ff; text-decoration-color: #00d7ff\">None</span>, <span style=\"color: #00af00; text-decoration-color: #00af00\">1024</span>)           │             <span style=\"color: #00af00; text-decoration-color: #00af00\">0</span> │\n",
       "├─────────────────────────────────┼────────────────────────┼───────────────┤\n",
       "│ dense_4 (<span style=\"color: #0087ff; text-decoration-color: #0087ff\">Dense</span>)                 │ (<span style=\"color: #00d7ff; text-decoration-color: #00d7ff\">None</span>, <span style=\"color: #00af00; text-decoration-color: #00af00\">512</span>)            │       <span style=\"color: #00af00; text-decoration-color: #00af00\">524,800</span> │\n",
       "├─────────────────────────────────┼────────────────────────┼───────────────┤\n",
       "│ dropout_3 (<span style=\"color: #0087ff; text-decoration-color: #0087ff\">Dropout</span>)             │ (<span style=\"color: #00d7ff; text-decoration-color: #00d7ff\">None</span>, <span style=\"color: #00af00; text-decoration-color: #00af00\">512</span>)            │             <span style=\"color: #00af00; text-decoration-color: #00af00\">0</span> │\n",
       "├─────────────────────────────────┼────────────────────────┼───────────────┤\n",
       "│ dense_5 (<span style=\"color: #0087ff; text-decoration-color: #0087ff\">Dense</span>)                 │ (<span style=\"color: #00d7ff; text-decoration-color: #00d7ff\">None</span>, <span style=\"color: #00af00; text-decoration-color: #00af00\">2</span>)              │         <span style=\"color: #00af00; text-decoration-color: #00af00\">1,026</span> │\n",
       "└─────────────────────────────────┴────────────────────────┴───────────────┘\n",
       "</pre>\n"
      ],
      "text/plain": [
       "┏━━━━━━━━━━━━━━━━━━━━━━━━━━━━━━━━━┳━━━━━━━━━━━━━━━━━━━━━━━━┳━━━━━━━━━━━━━━━┓\n",
       "┃\u001b[1m \u001b[0m\u001b[1mLayer (type)                   \u001b[0m\u001b[1m \u001b[0m┃\u001b[1m \u001b[0m\u001b[1mOutput Shape          \u001b[0m\u001b[1m \u001b[0m┃\u001b[1m \u001b[0m\u001b[1m      Param #\u001b[0m\u001b[1m \u001b[0m┃\n",
       "┡━━━━━━━━━━━━━━━━━━━━━━━━━━━━━━━━━╇━━━━━━━━━━━━━━━━━━━━━━━━╇━━━━━━━━━━━━━━━┩\n",
       "│ input_layer_3 (\u001b[38;5;33mInputLayer\u001b[0m)      │ (\u001b[38;5;45mNone\u001b[0m, \u001b[38;5;34m224\u001b[0m, \u001b[38;5;34m224\u001b[0m, \u001b[38;5;34m3\u001b[0m)    │             \u001b[38;5;34m0\u001b[0m │\n",
       "├─────────────────────────────────┼────────────────────────┼───────────────┤\n",
       "│ vgg16 (\u001b[38;5;33mFunctional\u001b[0m)              │ (\u001b[38;5;45mNone\u001b[0m, \u001b[38;5;34m7\u001b[0m, \u001b[38;5;34m7\u001b[0m, \u001b[38;5;34m512\u001b[0m)      │    \u001b[38;5;34m14,714,688\u001b[0m │\n",
       "├─────────────────────────────────┼────────────────────────┼───────────────┤\n",
       "│ global_average_pooling2d_1      │ (\u001b[38;5;45mNone\u001b[0m, \u001b[38;5;34m512\u001b[0m)            │             \u001b[38;5;34m0\u001b[0m │\n",
       "│ (\u001b[38;5;33mGlobalAveragePooling2D\u001b[0m)        │                        │               │\n",
       "├─────────────────────────────────┼────────────────────────┼───────────────┤\n",
       "│ dense_3 (\u001b[38;5;33mDense\u001b[0m)                 │ (\u001b[38;5;45mNone\u001b[0m, \u001b[38;5;34m1024\u001b[0m)           │       \u001b[38;5;34m525,312\u001b[0m │\n",
       "├─────────────────────────────────┼────────────────────────┼───────────────┤\n",
       "│ dropout_2 (\u001b[38;5;33mDropout\u001b[0m)             │ (\u001b[38;5;45mNone\u001b[0m, \u001b[38;5;34m1024\u001b[0m)           │             \u001b[38;5;34m0\u001b[0m │\n",
       "├─────────────────────────────────┼────────────────────────┼───────────────┤\n",
       "│ dense_4 (\u001b[38;5;33mDense\u001b[0m)                 │ (\u001b[38;5;45mNone\u001b[0m, \u001b[38;5;34m512\u001b[0m)            │       \u001b[38;5;34m524,800\u001b[0m │\n",
       "├─────────────────────────────────┼────────────────────────┼───────────────┤\n",
       "│ dropout_3 (\u001b[38;5;33mDropout\u001b[0m)             │ (\u001b[38;5;45mNone\u001b[0m, \u001b[38;5;34m512\u001b[0m)            │             \u001b[38;5;34m0\u001b[0m │\n",
       "├─────────────────────────────────┼────────────────────────┼───────────────┤\n",
       "│ dense_5 (\u001b[38;5;33mDense\u001b[0m)                 │ (\u001b[38;5;45mNone\u001b[0m, \u001b[38;5;34m2\u001b[0m)              │         \u001b[38;5;34m1,026\u001b[0m │\n",
       "└─────────────────────────────────┴────────────────────────┴───────────────┘\n"
      ]
     },
     "metadata": {},
     "output_type": "display_data"
    },
    {
     "data": {
      "text/html": [
       "<pre style=\"white-space:pre;overflow-x:auto;line-height:normal;font-family:Menlo,'DejaVu Sans Mono',consolas,'Courier New',monospace\"><span style=\"font-weight: bold\"> Total params: </span><span style=\"color: #00af00; text-decoration-color: #00af00\">15,765,826</span> (60.14 MB)\n",
       "</pre>\n"
      ],
      "text/plain": [
       "\u001b[1m Total params: \u001b[0m\u001b[38;5;34m15,765,826\u001b[0m (60.14 MB)\n"
      ]
     },
     "metadata": {},
     "output_type": "display_data"
    },
    {
     "data": {
      "text/html": [
       "<pre style=\"white-space:pre;overflow-x:auto;line-height:normal;font-family:Menlo,'DejaVu Sans Mono',consolas,'Courier New',monospace\"><span style=\"font-weight: bold\"> Trainable params: </span><span style=\"color: #00af00; text-decoration-color: #00af00\">1,051,138</span> (4.01 MB)\n",
       "</pre>\n"
      ],
      "text/plain": [
       "\u001b[1m Trainable params: \u001b[0m\u001b[38;5;34m1,051,138\u001b[0m (4.01 MB)\n"
      ]
     },
     "metadata": {},
     "output_type": "display_data"
    },
    {
     "data": {
      "text/html": [
       "<pre style=\"white-space:pre;overflow-x:auto;line-height:normal;font-family:Menlo,'DejaVu Sans Mono',consolas,'Courier New',monospace\"><span style=\"font-weight: bold\"> Non-trainable params: </span><span style=\"color: #00af00; text-decoration-color: #00af00\">14,714,688</span> (56.13 MB)\n",
       "</pre>\n"
      ],
      "text/plain": [
       "\u001b[1m Non-trainable params: \u001b[0m\u001b[38;5;34m14,714,688\u001b[0m (56.13 MB)\n"
      ]
     },
     "metadata": {},
     "output_type": "display_data"
    }
   ],
   "source": [
    "# Compile with first idea of appropriate parameters\n",
    "vgg16.compile(optimizer=\"adam\", loss=\"sparse_categorical_crossentropy\", metrics=[\"accuracy\"])\n",
    "\n",
    "# Print how it looks like\n",
    "vgg16.summary()"
   ]
  },
  {
   "cell_type": "code",
   "execution_count": 23,
   "metadata": {
    "id": "PQ03PzF_ohla",
    "outputId": "ef802c4a-7ddf-4f6b-c922-2523cc50b3cc"
   },
   "outputs": [
    {
     "name": "stdout",
     "output_type": "stream",
     "text": [
      "Epoch 1/10\n",
      "\u001b[1m691/691\u001b[0m \u001b[32m━━━━━━━━━━━━━━━━━━━━\u001b[0m\u001b[37m\u001b[0m \u001b[1m341s\u001b[0m 492ms/step - accuracy: 0.7915 - loss: 0.6975 - val_accuracy: 0.8396 - val_loss: 0.3882 - learning_rate: 0.0010\n",
      "Epoch 2/10\n",
      "\u001b[1m691/691\u001b[0m \u001b[32m━━━━━━━━━━━━━━━━━━━━\u001b[0m\u001b[37m\u001b[0m \u001b[1m339s\u001b[0m 491ms/step - accuracy: 0.8568 - loss: 0.3172 - val_accuracy: 0.8950 - val_loss: 0.2596 - learning_rate: 0.0010\n",
      "Epoch 3/10\n",
      "\u001b[1m691/691\u001b[0m \u001b[32m━━━━━━━━━━━━━━━━━━━━\u001b[0m\u001b[37m\u001b[0m \u001b[1m358s\u001b[0m 518ms/step - accuracy: 0.8805 - loss: 0.2766 - val_accuracy: 0.8794 - val_loss: 0.2839 - learning_rate: 0.0010\n",
      "Epoch 4/10\n",
      "\u001b[1m691/691\u001b[0m \u001b[32m━━━━━━━━━━━━━━━━━━━━\u001b[0m\u001b[37m\u001b[0m \u001b[1m355s\u001b[0m 514ms/step - accuracy: 0.8882 - loss: 0.2575 - val_accuracy: 0.8852 - val_loss: 0.2921 - learning_rate: 0.0010\n",
      "Epoch 5/10\n",
      "\u001b[1m691/691\u001b[0m \u001b[32m━━━━━━━━━━━━━━━━━━━━\u001b[0m\u001b[37m\u001b[0m \u001b[1m0s\u001b[0m 395ms/step - accuracy: 0.8959 - loss: 0.2412\n",
      "Epoch 5: ReduceLROnPlateau reducing learning rate to 0.00010000000474974513.\n",
      "\u001b[1m691/691\u001b[0m \u001b[32m━━━━━━━━━━━━━━━━━━━━\u001b[0m\u001b[37m\u001b[0m \u001b[1m341s\u001b[0m 493ms/step - accuracy: 0.8959 - loss: 0.2412 - val_accuracy: 0.8490 - val_loss: 0.3749 - learning_rate: 0.0010\n",
      "Epoch 5: early stopping\n"
     ]
    }
   ],
   "source": [
    "# First traing just on 10 batches (otherwise this would run endlessly on my machine)\n",
    "nr_batches = 32\n",
    "# Uncomment the following and outcomment the next lines in order to train the model on the whole dataset\n",
    "history_model = vgg16.fit(\n",
    "    train_ds,\n",
    "    epochs=10,\n",
    "    validation_data=val_ds,\n",
    "    class_weight=class_weights_dict,\n",
    "    callbacks=[early_stopping, reduce_learning_rate]\n",
    ")\n",
    "#history_model = vgg16.fit(train_ds.shuffle(1000).take(nr_batches),\n",
    "#                          epochs=10,\n",
    "#                          validation_data=val_ds.shuffle(1000).take(nr_batches),\n",
    "#                          class_weight=class_weights_dict,\n",
    "#                          callbacks=[early_stopping, reduce_learning_rate])\n",
    "vgg16.save('vgg16.keras')"
   ]
  },
  {
   "cell_type": "markdown",
   "metadata": {
    "id": "YaifmuDqohla"
   },
   "source": [
    "##### Evalution"
   ]
  },
  {
   "cell_type": "code",
   "execution_count": 24,
   "metadata": {
    "id": "ARyFsA86ohla"
   },
   "outputs": [],
   "source": [
    "def plot_learning_curve(history_model):\n",
    "    plt.figure(figsize=(12,4))\n",
    "\n",
    "    plt.subplot(121)\n",
    "    plt.plot(history_model.history['loss'])\n",
    "    plt.plot(history_model.history['val_loss'])\n",
    "    plt.title('Model loss by epoch')\n",
    "    plt.ylabel('loss')\n",
    "    plt.xlabel('epoch')\n",
    "    plt.legend(['train', 'test'], loc='right')\n",
    "\n",
    "    plt.subplot(122)\n",
    "    plt.plot(history_model.history['accuracy'])\n",
    "    plt.plot(history_model.history['val_accuracy'])\n",
    "    plt.title('Model accuracy by epoch')\n",
    "    plt.ylabel('accuracy')\n",
    "    plt.xlabel('epoch')\n",
    "    plt.legend(['train', 'test'], loc='right')\n",
    "    plt.show()"
   ]
  },
  {
   "cell_type": "code",
   "execution_count": 25,
   "metadata": {
    "id": "v_f2bq82ohla",
    "outputId": "ad3aa731-35f4-4629-d447-1aa3ef0c2f33"
   },
   "outputs": [
    {
     "data": {
      "image/png": "[encoded data removed]",
      "text/plain": [
       "<Figure size 1200x400 with 2 Axes>"
      ]
     },
     "metadata": {},
     "output_type": "display_data"
    }
   ],
   "source": [
    "plot_learning_curve(history_model)"
   ]
  },
  {
   "cell_type": "markdown",
   "metadata": {
    "id": "9WPnjRyxohlb"
   },
   "source": [
    "> We can see, that our model accuracy stagnates at appr. 70%\n",
    "> It seems, that we cannot improve here much."
   ]
  },
  {
   "cell_type": "code",
   "execution_count": 27,
   "metadata": {
    "id": "zmSflCnjohlb"
   },
   "outputs": [],
   "source": [
    "# Get true labels and predictions from the test dataset\n",
    "def get_predictions_and_labels(model, dataset):\n",
    "    true_labels = []\n",
    "    pred_labels = []\n",
    "\n",
    "    for images, labels in dataset:\n",
    "\n",
    "        preds = model.predict(images, verbose=0)  # Get the model's predictions\n",
    "        pred_labels.extend(np.argmax(preds, axis=-1))  # Get the predicted labels (argmax)\n",
    "\n",
    "        true_labels.extend(labels.numpy())  # Get the true labels\n",
    "\n",
    "    return np.array(true_labels), np.array(pred_labels)\n",
    "\n",
    "# Print a report with classification_report and heatmap confusion_matrix\n",
    "def report_preds(y_true, y_pred):\n",
    "    # Print the classification report (precision, recall, F1-score)\n",
    "    print(classification_report_imbalanced(y_true, y_pred, target_names=class_names))\n",
    "\n",
    "    # Show also the non-normalized crosstab\n",
    "    #display(pd.crosstab(y_true, y_pred, rownames=['True'], colnames=['Predicted']))\n",
    "    ct = pd.crosstab(y_true, y_pred, rownames=['True'],colnames=['Predicted'])\n",
    "    column_mapping = {index: class_name for index, class_name in enumerate(class_names)}\n",
    "    ct = ct.rename(columns=column_mapping)\n",
    "    ct.index = class_names\n",
    "    display(ct)\n",
    "\n",
    "    # Display the confusion matrix\n",
    "    plt.figure(figsize=(4, 4))  # Create a large figure for the confusion matrix\n",
    "    cnf_matrix = confusion_matrix(y_true, y_pred, normalize='true')  # Compute the normalized confusion matrix\n",
    "    sns.heatmap(cnf_matrix, cmap='Blues', annot=True, cbar=False, fmt=\".2f\")  # Plot the confusion matrix as a heatmap\n",
    "    plt.xlabel('Predicted')\n",
    "    plt.ylabel('True')\n",
    "    plt.xticks(ticks=np.arange(0.5,len(class_names)+0.5,1), labels=class_names, rotation=45, ha='right')\n",
    "    plt.yticks(ticks=np.arange(0.5,len(class_names)+0.5,1), labels=class_names, rotation=45, ha='right')\n",
    "    plt.show()"
   ]
  },
  {
   "cell_type": "code",
   "execution_count": 28,
   "metadata": {
    "id": "9wLQh3v8ohlb"
   },
   "outputs": [],
   "source": [
    "y_true, y_pred = get_predictions_and_labels(vgg16, val_ds)"
   ]
  },
  {
   "cell_type": "code",
   "execution_count": 29,
   "metadata": {
    "id": "FQS0JU4Sohlb",
    "outputId": "807c715e-6ac2-4f4a-dc72-83f9b752e5de"
   },
   "outputs": [
    {
     "name": "stdout",
     "output_type": "stream",
     "text": [
      "                   pre       rec       spe        f1       geo       iba       sup\n",
      "\n",
      "     normal       0.96      0.82      0.91      0.89      0.87      0.75      2008\n",
      "      covid       0.66      0.91      0.82      0.77      0.87      0.76       753\n",
      "\n",
      "avg / total       0.88      0.85      0.89      0.86      0.87      0.75      2761\n",
      "\n"
     ]
    },
    {
     "data": {
      "text/html": [
       "<div>\n",
       "<style scoped>\n",
       "    .dataframe tbody tr th:only-of-type {\n",
       "        vertical-align: middle;\n",
       "    }\n",
       "\n",
       "    .dataframe tbody tr th {\n",
       "        vertical-align: top;\n",
       "    }\n",
       "\n",
       "    .dataframe thead th {\n",
       "        text-align: right;\n",
       "    }\n",
       "</style>\n",
       "<table border=\"1\" class=\"dataframe\">\n",
       "  <thead>\n",
       "    <tr style=\"text-align: right;\">\n",
       "      <th>Predicted</th>\n",
       "      <th>normal</th>\n",
       "      <th>covid</th>\n",
       "    </tr>\n",
       "  </thead>\n",
       "  <tbody>\n",
       "    <tr>\n",
       "      <th>normal</th>\n",
       "      <td>1656</td>\n",
       "      <td>352</td>\n",
       "    </tr>\n",
       "    <tr>\n",
       "      <th>covid</th>\n",
       "      <td>65</td>\n",
       "      <td>688</td>\n",
       "    </tr>\n",
       "  </tbody>\n",
       "</table>\n",
       "</div>"
      ],
      "text/plain": [
       "Predicted  normal  covid\n",
       "normal       1656    352\n",
       "covid          65    688"
      ]
     },
     "metadata": {},
     "output_type": "display_data"
    },
    {
     "data": {
      "image/png": "[encoded data removed]",
      "text/plain": [
       "<Figure size 400x400 with 1 Axes>"
      ]
     },
     "metadata": {},
     "output_type": "display_data"
    }
   ],
   "source": [
    "report_preds(y_true, y_pred)\n",
    "\n",
    "# Well, with 4 classes, it's pretty bad on recall our model, let's try something else\n",
    "# With 2 classes only, we get a better prediction for the covid class"
   ]
  },
  {
   "cell_type": "markdown",
   "metadata": {
    "id": "jrJ6o6Jkohlb"
   },
   "source": [
    "#### Try with DenseNet121"
   ]
  },
  {
   "cell_type": "code",
   "execution_count": 30,
   "metadata": {
    "id": "IWaRJUcEohlb",
    "outputId": "ab62f5f3-8b44-490f-8691-20a2ef049c69"
   },
   "outputs": [],
   "source": [
    "from tensorflow.keras.applications import DenseNet121\n",
    "from tensorflow.keras.applications.densenet import preprocess_input\n",
    "\n",
    "# DenseNet121 model\n",
    "# Load DenseNet121 architecture without weights\n",
    "base_model = DenseNet121(weights='imagenet', include_top=False, input_shape=(224, 224, 3))\n",
    "\n",
    "# Load the CheXNet weights\n",
    "#base_model.load_weights('brucechou1983_CheXNet_Keras_0.3.0_weights.h5', by_name=True)\n",
    "\n",
    "# Freeze the layers of VGG16\n",
    "base_model.trainable = False\n",
    "\n",
    "# Model creation using the Functional API\n",
    "inputs = Input(shape=(224, 224, 3))\n",
    "\n",
    "# Apply augmentations\n",
    "#x = RandomRotation(0.1)(inputs)\n",
    "#x = RandomTranslation(height_factor=0.1, width_factor=0.1)(x)\n",
    "#x = RandomZoom(0.1)(x)\n",
    "#x = RandomFlip(\"horizontal\")(x)\n",
    "\n",
    "# Build the model\n",
    "x = base_model(inputs)\n",
    "x = GlobalAveragePooling2D()(x)\n",
    "x = Dense(1024, activation='relu')(x)\n",
    "x = Dropout(rate=0.2)(x)\n",
    "x = Dense(512, activation='relu')(x)\n",
    "x = Dropout(rate=0.2)(x)\n",
    "outputs = Dense(len(class_names), activation='softmax')(x)\n",
    "\n",
    "dense121 = Model(inputs=inputs, outputs=outputs)"
   ]
  },
  {
   "cell_type": "code",
   "execution_count": 31,
   "metadata": {
    "id": "eUC3KgoUohlc",
    "outputId": "2b15161c-a407-46fd-d900-751a357f572e"
   },
   "outputs": [
    {
     "data": {
      "text/html": [
       "<pre style=\"white-space:pre;overflow-x:auto;line-height:normal;font-family:Menlo,'DejaVu Sans Mono',consolas,'Courier New',monospace\"><span style=\"font-weight: bold\">Model: \"functional_2\"</span>\n",
       "</pre>\n"
      ],
      "text/plain": [
       "\u001b[1mModel: \"functional_2\"\u001b[0m\n"
      ]
     },
     "metadata": {},
     "output_type": "display_data"
    },
    {
     "data": {
      "text/html": [
       "<pre style=\"white-space:pre;overflow-x:auto;line-height:normal;font-family:Menlo,'DejaVu Sans Mono',consolas,'Courier New',monospace\">┏━━━━━━━━━━━━━━━━━━━━━━━━━━━━━━━━━┳━━━━━━━━━━━━━━━━━━━━━━━━┳━━━━━━━━━━━━━━━┓\n",
       "┃<span style=\"font-weight: bold\"> Layer (type)                    </span>┃<span style=\"font-weight: bold\"> Output Shape           </span>┃<span style=\"font-weight: bold\">       Param # </span>┃\n",
       "┡━━━━━━━━━━━━━━━━━━━━━━━━━━━━━━━━━╇━━━━━━━━━━━━━━━━━━━━━━━━╇━━━━━━━━━━━━━━━┩\n",
       "│ input_layer_5 (<span style=\"color: #0087ff; text-decoration-color: #0087ff\">InputLayer</span>)      │ (<span style=\"color: #00d7ff; text-decoration-color: #00d7ff\">None</span>, <span style=\"color: #00af00; text-decoration-color: #00af00\">224</span>, <span style=\"color: #00af00; text-decoration-color: #00af00\">224</span>, <span style=\"color: #00af00; text-decoration-color: #00af00\">3</span>)    │             <span style=\"color: #00af00; text-decoration-color: #00af00\">0</span> │\n",
       "├─────────────────────────────────┼────────────────────────┼───────────────┤\n",
       "│ densenet121 (<span style=\"color: #0087ff; text-decoration-color: #0087ff\">Functional</span>)        │ (<span style=\"color: #00d7ff; text-decoration-color: #00d7ff\">None</span>, <span style=\"color: #00af00; text-decoration-color: #00af00\">7</span>, <span style=\"color: #00af00; text-decoration-color: #00af00\">7</span>, <span style=\"color: #00af00; text-decoration-color: #00af00\">1024</span>)     │     <span style=\"color: #00af00; text-decoration-color: #00af00\">7,037,504</span> │\n",
       "├─────────────────────────────────┼────────────────────────┼───────────────┤\n",
       "│ global_average_pooling2d_2      │ (<span style=\"color: #00d7ff; text-decoration-color: #00d7ff\">None</span>, <span style=\"color: #00af00; text-decoration-color: #00af00\">1024</span>)           │             <span style=\"color: #00af00; text-decoration-color: #00af00\">0</span> │\n",
       "│ (<span style=\"color: #0087ff; text-decoration-color: #0087ff\">GlobalAveragePooling2D</span>)        │                        │               │\n",
       "├─────────────────────────────────┼────────────────────────┼───────────────┤\n",
       "│ dense_6 (<span style=\"color: #0087ff; text-decoration-color: #0087ff\">Dense</span>)                 │ (<span style=\"color: #00d7ff; text-decoration-color: #00d7ff\">None</span>, <span style=\"color: #00af00; text-decoration-color: #00af00\">1024</span>)           │     <span style=\"color: #00af00; text-decoration-color: #00af00\">1,049,600</span> │\n",
       "├─────────────────────────────────┼────────────────────────┼───────────────┤\n",
       "│ dropout_4 (<span style=\"color: #0087ff; text-decoration-color: #0087ff\">Dropout</span>)             │ (<span style=\"color: #00d7ff; text-decoration-color: #00d7ff\">None</span>, <span style=\"color: #00af00; text-decoration-color: #00af00\">1024</span>)           │             <span style=\"color: #00af00; text-decoration-color: #00af00\">0</span> │\n",
       "├─────────────────────────────────┼────────────────────────┼───────────────┤\n",
       "│ dense_7 (<span style=\"color: #0087ff; text-decoration-color: #0087ff\">Dense</span>)                 │ (<span style=\"color: #00d7ff; text-decoration-color: #00d7ff\">None</span>, <span style=\"color: #00af00; text-decoration-color: #00af00\">512</span>)            │       <span style=\"color: #00af00; text-decoration-color: #00af00\">524,800</span> │\n",
       "├─────────────────────────────────┼────────────────────────┼───────────────┤\n",
       "│ dropout_5 (<span style=\"color: #0087ff; text-decoration-color: #0087ff\">Dropout</span>)             │ (<span style=\"color: #00d7ff; text-decoration-color: #00d7ff\">None</span>, <span style=\"color: #00af00; text-decoration-color: #00af00\">512</span>)            │             <span style=\"color: #00af00; text-decoration-color: #00af00\">0</span> │\n",
       "├─────────────────────────────────┼────────────────────────┼───────────────┤\n",
       "│ dense_8 (<span style=\"color: #0087ff; text-decoration-color: #0087ff\">Dense</span>)                 │ (<span style=\"color: #00d7ff; text-decoration-color: #00d7ff\">None</span>, <span style=\"color: #00af00; text-decoration-color: #00af00\">2</span>)              │         <span style=\"color: #00af00; text-decoration-color: #00af00\">1,026</span> │\n",
       "└─────────────────────────────────┴────────────────────────┴───────────────┘\n",
       "</pre>\n"
      ],
      "text/plain": [
       "┏━━━━━━━━━━━━━━━━━━━━━━━━━━━━━━━━━┳━━━━━━━━━━━━━━━━━━━━━━━━┳━━━━━━━━━━━━━━━┓\n",
       "┃\u001b[1m \u001b[0m\u001b[1mLayer (type)                   \u001b[0m\u001b[1m \u001b[0m┃\u001b[1m \u001b[0m\u001b[1mOutput Shape          \u001b[0m\u001b[1m \u001b[0m┃\u001b[1m \u001b[0m\u001b[1m      Param #\u001b[0m\u001b[1m \u001b[0m┃\n",
       "┡━━━━━━━━━━━━━━━━━━━━━━━━━━━━━━━━━╇━━━━━━━━━━━━━━━━━━━━━━━━╇━━━━━━━━━━━━━━━┩\n",
       "│ input_layer_5 (\u001b[38;5;33mInputLayer\u001b[0m)      │ (\u001b[38;5;45mNone\u001b[0m, \u001b[38;5;34m224\u001b[0m, \u001b[38;5;34m224\u001b[0m, \u001b[38;5;34m3\u001b[0m)    │             \u001b[38;5;34m0\u001b[0m │\n",
       "├─────────────────────────────────┼────────────────────────┼───────────────┤\n",
       "│ densenet121 (\u001b[38;5;33mFunctional\u001b[0m)        │ (\u001b[38;5;45mNone\u001b[0m, \u001b[38;5;34m7\u001b[0m, \u001b[38;5;34m7\u001b[0m, \u001b[38;5;34m1024\u001b[0m)     │     \u001b[38;5;34m7,037,504\u001b[0m │\n",
       "├─────────────────────────────────┼────────────────────────┼───────────────┤\n",
       "│ global_average_pooling2d_2      │ (\u001b[38;5;45mNone\u001b[0m, \u001b[38;5;34m1024\u001b[0m)           │             \u001b[38;5;34m0\u001b[0m │\n",
       "│ (\u001b[38;5;33mGlobalAveragePooling2D\u001b[0m)        │                        │               │\n",
       "├─────────────────────────────────┼────────────────────────┼───────────────┤\n",
       "│ dense_6 (\u001b[38;5;33mDense\u001b[0m)                 │ (\u001b[38;5;45mNone\u001b[0m, \u001b[38;5;34m1024\u001b[0m)           │     \u001b[38;5;34m1,049,600\u001b[0m │\n",
       "├─────────────────────────────────┼────────────────────────┼───────────────┤\n",
       "│ dropout_4 (\u001b[38;5;33mDropout\u001b[0m)             │ (\u001b[38;5;45mNone\u001b[0m, \u001b[38;5;34m1024\u001b[0m)           │             \u001b[38;5;34m0\u001b[0m │\n",
       "├─────────────────────────────────┼────────────────────────┼───────────────┤\n",
       "│ dense_7 (\u001b[38;5;33mDense\u001b[0m)                 │ (\u001b[38;5;45mNone\u001b[0m, \u001b[38;5;34m512\u001b[0m)            │       \u001b[38;5;34m524,800\u001b[0m │\n",
       "├─────────────────────────────────┼────────────────────────┼───────────────┤\n",
       "│ dropout_5 (\u001b[38;5;33mDropout\u001b[0m)             │ (\u001b[38;5;45mNone\u001b[0m, \u001b[38;5;34m512\u001b[0m)            │             \u001b[38;5;34m0\u001b[0m │\n",
       "├─────────────────────────────────┼────────────────────────┼───────────────┤\n",
       "│ dense_8 (\u001b[38;5;33mDense\u001b[0m)                 │ (\u001b[38;5;45mNone\u001b[0m, \u001b[38;5;34m2\u001b[0m)              │         \u001b[38;5;34m1,026\u001b[0m │\n",
       "└─────────────────────────────────┴────────────────────────┴───────────────┘\n"
      ]
     },
     "metadata": {},
     "output_type": "display_data"
    },
    {
     "data": {
      "text/html": [
       "<pre style=\"white-space:pre;overflow-x:auto;line-height:normal;font-family:Menlo,'DejaVu Sans Mono',consolas,'Courier New',monospace\"><span style=\"font-weight: bold\"> Total params: </span><span style=\"color: #00af00; text-decoration-color: #00af00\">8,612,930</span> (32.86 MB)\n",
       "</pre>\n"
      ],
      "text/plain": [
       "\u001b[1m Total params: \u001b[0m\u001b[38;5;34m8,612,930\u001b[0m (32.86 MB)\n"
      ]
     },
     "metadata": {},
     "output_type": "display_data"
    },
    {
     "data": {
      "text/html": [
       "<pre style=\"white-space:pre;overflow-x:auto;line-height:normal;font-family:Menlo,'DejaVu Sans Mono',consolas,'Courier New',monospace\"><span style=\"font-weight: bold\"> Trainable params: </span><span style=\"color: #00af00; text-decoration-color: #00af00\">1,575,426</span> (6.01 MB)\n",
       "</pre>\n"
      ],
      "text/plain": [
       "\u001b[1m Trainable params: \u001b[0m\u001b[38;5;34m1,575,426\u001b[0m (6.01 MB)\n"
      ]
     },
     "metadata": {},
     "output_type": "display_data"
    },
    {
     "data": {
      "text/html": [
       "<pre style=\"white-space:pre;overflow-x:auto;line-height:normal;font-family:Menlo,'DejaVu Sans Mono',consolas,'Courier New',monospace\"><span style=\"font-weight: bold\"> Non-trainable params: </span><span style=\"color: #00af00; text-decoration-color: #00af00\">7,037,504</span> (26.85 MB)\n",
       "</pre>\n"
      ],
      "text/plain": [
       "\u001b[1m Non-trainable params: \u001b[0m\u001b[38;5;34m7,037,504\u001b[0m (26.85 MB)\n"
      ]
     },
     "metadata": {},
     "output_type": "display_data"
    }
   ],
   "source": [
    "# Compile with first idea of appropriate parameters\n",
    "dense121.compile(optimizer=\"adam\", loss=\"sparse_categorical_crossentropy\", metrics=[\"accuracy\"])\n",
    "\n",
    "# Print how it looks like\n",
    "dense121.summary()"
   ]
  },
  {
   "cell_type": "code",
   "execution_count": 32,
   "metadata": {
    "id": "T-MEqicGohlc",
    "outputId": "4d90e24c-7bcb-492d-e420-e85ecba68f20"
   },
   "outputs": [
    {
     "name": "stdout",
     "output_type": "stream",
     "text": [
      "Epoch 1/10\n"
     ]
    },
    {
     "name": "stdout",
     "output_type": "stream",
     "text": [
      "\u001b[1m691/691\u001b[0m \u001b[32m━━━━━━━━━━━━━━━━━━━━\u001b[0m\u001b[37m\u001b[0m \u001b[1m237s\u001b[0m 332ms/step - accuracy: 0.5817 - loss: 3.1350 - val_accuracy: 0.6309 - val_loss: 0.7315 - learning_rate: 0.0010\n",
      "Epoch 2/10\n",
      "\u001b[1m691/691\u001b[0m \u001b[32m━━━━━━━━━━━━━━━━━━━━\u001b[0m\u001b[37m\u001b[0m \u001b[1m228s\u001b[0m 329ms/step - accuracy: 0.6747 - loss: 0.6762 - val_accuracy: 0.2731 - val_loss: 0.6992 - learning_rate: 0.0010\n",
      "Epoch 3/10\n",
      "\u001b[1m691/691\u001b[0m \u001b[32m━━━━━━━━━━━━━━━━━━━━\u001b[0m\u001b[37m\u001b[0m \u001b[1m227s\u001b[0m 328ms/step - accuracy: 0.5340 - loss: 0.6854 - val_accuracy: 0.2727 - val_loss: 0.6970 - learning_rate: 0.0010\n",
      "Epoch 4/10\n",
      "\u001b[1m691/691\u001b[0m \u001b[32m━━━━━━━━━━━━━━━━━━━━\u001b[0m\u001b[37m\u001b[0m \u001b[1m228s\u001b[0m 329ms/step - accuracy: 0.4549 - loss: 0.6877 - val_accuracy: 0.2727 - val_loss: 0.6979 - learning_rate: 0.0010\n",
      "Epoch 5/10\n",
      "\u001b[1m691/691\u001b[0m \u001b[32m━━━━━━━━━━━━━━━━━━━━\u001b[0m\u001b[37m\u001b[0m \u001b[1m0s\u001b[0m 278ms/step - accuracy: 0.4684 - loss: 0.6871\n",
      "Epoch 5: ReduceLROnPlateau reducing learning rate to 0.00010000000474974513.\n",
      "\u001b[1m691/691\u001b[0m \u001b[32m━━━━━━━━━━━━━━━━━━━━\u001b[0m\u001b[37m\u001b[0m \u001b[1m239s\u001b[0m 346ms/step - accuracy: 0.4684 - loss: 0.6871 - val_accuracy: 0.2727 - val_loss: 0.6971 - learning_rate: 0.0010\n",
      "Epoch 5: early stopping\n"
     ]
    },
    {
     "data": {
      "image/png": "[encoded data removed]",
      "text/plain": [
       "<Figure size 1200x400 with 2 Axes>"
      ]
     },
     "metadata": {},
     "output_type": "display_data"
    }
   ],
   "source": [
    "# First traing just on 10 batches (otherwise this would run endlessly on my machine)\n",
    "nr_batches = 32\n",
    "# Uncomment the following and outcomment the next lines in order to train the model on the whole dataset\n",
    "history_model = dense121.fit(train_ds,\n",
    "                             epochs=10,\n",
    "                             validation_data=val_ds,\n",
    "                             class_weight=class_weights_dict,\n",
    "                             callbacks=[early_stopping, reduce_learning_rate])\n",
    "#history_model = dense121.fit(train_ds.shuffle(1000).take(nr_batches),\n",
    "#                             epochs=10,\n",
    "#                             validation_data=val_ds.shuffle(1000).take(nr_batches),\n",
    "#                             class_weight=class_weights_dict,\n",
    "#                             callbacks=[early_stopping, reduce_learning_rate])\n",
    "dense121.save('dense121.keras')\n",
    "plot_learning_curve(history_model)"
   ]
  },
  {
   "cell_type": "code",
   "execution_count": 33,
   "metadata": {
    "id": "cLXCwm7Uohlc",
    "outputId": "45d356b6-a178-41e5-d481-6ad7d62dbe13"
   },
   "outputs": [
    {
     "name": "stdout",
     "output_type": "stream",
     "text": [
      "                   pre       rec       spe        f1       geo       iba       sup\n",
      "\n",
      "     normal       0.00      0.00      1.00      0.00      0.00      0.00      2008\n",
      "      covid       0.27      1.00      0.00      0.43      0.00      0.00       753\n",
      "\n",
      "avg / total       0.07      0.27      0.73      0.12      0.00      0.00      2761\n",
      "\n"
     ]
    },
    {
     "name": "stderr",
     "output_type": "stream",
     "text": [
      "c:\\Users\\Thoma\\anaconda3\\envs\\new_env\\Lib\\site-packages\\sklearn\\metrics\\_classification.py:1565: UndefinedMetricWarning: Precision is ill-defined and being set to 0.0 in labels with no predicted samples. Use `zero_division` parameter to control this behavior.\n",
      "  _warn_prf(average, modifier, f\"{metric.capitalize()} is\", len(result))\n"
     ]
    },
    {
     "data": {
      "text/html": [
       "<div>\n",
       "<style scoped>\n",
       "    .dataframe tbody tr th:only-of-type {\n",
       "        vertical-align: middle;\n",
       "    }\n",
       "\n",
       "    .dataframe tbody tr th {\n",
       "        vertical-align: top;\n",
       "    }\n",
       "\n",
       "    .dataframe thead th {\n",
       "        text-align: right;\n",
       "    }\n",
       "</style>\n",
       "<table border=\"1\" class=\"dataframe\">\n",
       "  <thead>\n",
       "    <tr style=\"text-align: right;\">\n",
       "      <th>Predicted</th>\n",
       "      <th>covid</th>\n",
       "    </tr>\n",
       "  </thead>\n",
       "  <tbody>\n",
       "    <tr>\n",
       "      <th>normal</th>\n",
       "      <td>2008</td>\n",
       "    </tr>\n",
       "    <tr>\n",
       "      <th>covid</th>\n",
       "      <td>753</td>\n",
       "    </tr>\n",
       "  </tbody>\n",
       "</table>\n",
       "</div>"
      ],
      "text/plain": [
       "Predicted  covid\n",
       "normal      2008\n",
       "covid        753"
      ]
     },
     "metadata": {},
     "output_type": "display_data"
    },
    {
     "data": {
      "image/png": "[encoded data removed]",
      "text/plain": [
       "<Figure size 400x400 with 1 Axes>"
      ]
     },
     "metadata": {},
     "output_type": "display_data"
    }
   ],
   "source": [
    "y_true, y_pred = get_predictions_and_labels(dense121, val_ds)\n",
    "report_preds(y_true, y_pred)\n",
    "\n",
    "# The densenet with the pretrained medical weights:\n",
    "# This is even more bad than the VGG16 model, although this weights were optimised\n",
    "# for pneumonia detection, it didn't even find 1 single covid case\n",
    "\n",
    "# Now we try with imagenet weights\n",
    "# Same result, no single covid was detected\n",
    "# Predicted\t        lung_opacity\tnormal\tviral_pneumonia\n",
    "#           covid\t17\t            10\t    2\n",
    "#    lung_opacity\t33\t            5\t    0\n",
    "#          normal\t4\t            45\t    2\n",
    "# viral_pneumonia\t1\t            2\t    7\n",
    "\n",
    "# Now we try only 2 classes (normal and covid from the original dataset) and imagenet weights\n",
    "# Even with only 2 classes, the DenseNet performs very poorly!\n",
    "# We get high covid idnetification, but also high false positives, so the model just almost predicts covid\n",
    "# Hence, we don't consider the DenseNet for further evaluation and concentrate on the VGG16 finetuning"
   ]
  }
 ],
 "metadata": {
  "colab": {
   "provenance": []
  },
  "kernelspec": {
   "display_name": "new_env",
   "language": "python",
   "name": "new_env"
  },
  "language_info": {
   "codemirror_mode": {
    "name": "ipython",
    "version": 3
   },
   "file_extension": ".py",
   "mimetype": "text/x-python",
   "name": "python",
   "nbconvert_exporter": "python",
   "pygments_lexer": "ipython3",
   "version": "3.11.11"
  }
 },
 "nbformat": 4,
 "nbformat_minor": 0
}
